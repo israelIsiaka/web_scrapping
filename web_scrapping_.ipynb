{
  "nbformat": 4,
  "nbformat_minor": 0,
  "metadata": {
    "colab": {
      "provenance": [],
      "authorship_tag": "ABX9TyNr/YsWzRKmSbB3hXVpDRNQ",
      "include_colab_link": true
    },
    "kernelspec": {
      "name": "python3",
      "display_name": "Python 3"
    },
    "language_info": {
      "name": "python"
    }
  },
  "cells": [
    {
      "cell_type": "markdown",
      "metadata": {
        "id": "view-in-github",
        "colab_type": "text"
      },
      "source": [
        "<a href=\"https://colab.research.google.com/github/israelIsiaka/web_scrapping/blob/main/web_scrapping_.ipynb\" target=\"_parent\"><img src=\"https://colab.research.google.com/assets/colab-badge.svg\" alt=\"Open In Colab\"/></a>"
      ]
    },
    {
      "cell_type": "markdown",
      "source": [
        "#This is a simple web scrapping assignment\n",
        "\n",
        "I will be scrapping From https://www.scrapethissite.com/pages/simple/\n",
        "\n",
        "After scrapping I will be displaying the countries, captial , population and area."
      ],
      "metadata": {
        "id": "qaI3QbYWIwrw"
      }
    },
    {
      "cell_type": "markdown",
      "source": [],
      "metadata": {
        "id": "QnBt1g9zIt4b"
      }
    },
    {
      "cell_type": "code",
      "source": [
        "import requests\n",
        "from bs4 import BeautifulSoup\n",
        "import pandas as pd\n",
        "\n",
        "# Target URL\n",
        "url = \"https://www.scrapethissite.com/pages/simple/\"\n",
        "\n",
        "# Send GET request\n",
        "response = requests.get(url)\n",
        "response.raise_for_status()  # Ensure we got a valid response\n",
        "\n",
        "# Parse HTML\n",
        "soup = BeautifulSoup(response.text, \"html.parser\")\n",
        "\n",
        "# Find all country containers\n",
        "countries = soup.find_all(\"div\", class_=\"country\")\n",
        "\n",
        "# Prepare storage\n",
        "data = []\n",
        "\n",
        "# Loop through each country block\n",
        "for country in countries:\n",
        "    name = country.find(\"h3\", class_=\"country-name\").text.strip()\n",
        "    capital = country.find(\"span\", class_=\"country-capital\").text.strip()\n",
        "    population = country.find(\"span\", class_=\"country-population\").text.strip()\n",
        "    area = country.find(\"span\", class_=\"country-area\").text.strip()\n",
        "\n",
        "    data.append({\n",
        "        \"Country\": name,\n",
        "        \"Capital\": capital,\n",
        "        \"Population\": population,\n",
        "        \"Area (km²)\": area\n",
        "    })\n",
        "\n",
        "# Convert to DataFrame\n",
        "df = pd.DataFrame(data)\n",
        "\n",
        "# Display first 10 rows\n",
        "print(df.head(10))"
      ],
      "metadata": {
        "colab": {
          "base_uri": "https://localhost:8080/"
        },
        "id": "qs3eB5TsKXU8",
        "outputId": "9fe2199b-9817-4329-f8ed-240ddedf22f3"
      },
      "execution_count": 1,
      "outputs": [
        {
          "output_type": "stream",
          "name": "stdout",
          "text": [
            "                Country           Capital Population Area (km²)\n",
            "0               Andorra  Andorra la Vella      84000      468.0\n",
            "1  United Arab Emirates         Abu Dhabi    4975593    82880.0\n",
            "2           Afghanistan             Kabul   29121286   647500.0\n",
            "3   Antigua and Barbuda        St. John's      86754      443.0\n",
            "4              Anguilla        The Valley      13254      102.0\n",
            "5               Albania            Tirana    2986952    28748.0\n",
            "6               Armenia           Yerevan    2968000    29800.0\n",
            "7                Angola            Luanda   13068161  1246700.0\n",
            "8            Antarctica              None          0      1.4E7\n",
            "9             Argentina      Buenos Aires   41343201  2766890.0\n"
          ]
        }
      ]
    }
  ]
}
{
  "nbformat": 4,
  "nbformat_minor": 0,
  "metadata": {
    "colab": {
      "provenance": [],
      "authorship_tag": "ABX9TyPXoeQyrayjWGdVZDZhK5z8",
      "include_colab_link": true
    },
    "kernelspec": {
      "name": "python3",
      "display_name": "Python 3"
    },
    "language_info": {
      "name": "python"
    }
  },
  "cells": [
    {
      "cell_type": "markdown",
      "metadata": {
        "id": "view-in-github",
        "colab_type": "text"
      },
      "source": [
        "<a href=\"https://colab.research.google.com/github/israelIsiaka/web_scrapping/blob/main/web_scrapping_.ipynb\" target=\"_parent\"><img src=\"https://colab.research.google.com/assets/colab-badge.svg\" alt=\"Open In Colab\"/></a>"
      ]
    },
    {
      "cell_type": "markdown",
      "source": [
        "#This is a simple web scrapping assignment\n",
        "\n",
        "I will be scrapping From https://www.scrapethissite.com/pages/simple/\n",
        "\n",
        "After scrapping I will be displaying the countries, captial , population and area."
      ],
      "metadata": {
        "id": "qaI3QbYWIwrw"
      }
    },
    {
      "cell_type": "markdown",
      "source": [],
      "metadata": {
        "id": "QnBt1g9zIt4b"
      }
    }
  ]
}